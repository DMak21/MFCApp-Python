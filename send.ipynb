{
 "cells": [
  {
   "cell_type": "code",
   "execution_count": 1,
   "metadata": {},
   "outputs": [],
   "source": [
    "from digi.xbee.devices import XBeeDevice\n",
    "from digi.xbee.models.status import NetworkDiscoveryStatus\n",
    "\n",
    "import random, datetime, time"
   ]
  },
  {
   "cell_type": "code",
   "execution_count": 2,
   "metadata": {},
   "outputs": [],
   "source": [
    "PORT = \"/dev/tty.usbmodem14201\"\n",
    "BAUD_RATE = 9600"
   ]
  },
  {
   "cell_type": "code",
   "execution_count": 3,
   "metadata": {},
   "outputs": [],
   "source": [
    "def discover_devices():\n",
    "\n",
    "    device = XBeeDevice(PORT, BAUD_RATE)\n",
    "\n",
    "    try:\n",
    "        try:\n",
    "            device.open()\n",
    "        except:\n",
    "            print(\"...\")\n",
    "            time.sleep(5)\n",
    "        \n",
    "        xbee_network = device.get_network()\n",
    "\n",
    "        xbee_network.set_discovery_timeout(15)  # 15 seconds.\n",
    "\n",
    "        xbee_network.clear()\n",
    "\n",
    "        # Callback for discovered devices.\n",
    "        def callback_device_discovered(remote):\n",
    "            print(\"Device discovered: %s\" % remote)\n",
    "\n",
    "        # Callback for discovery finished.\n",
    "        def callback_discovery_finished(status):\n",
    "            if status == NetworkDiscoveryStatus.SUCCESS:\n",
    "                print(\"Discovery process finished successfully.\")\n",
    "            else:\n",
    "                print(\"There was an error discovering devices: %s\" % status.description)\n",
    "\n",
    "        xbee_network.add_device_discovered_callback(callback_device_discovered)\n",
    "\n",
    "        xbee_network.add_discovery_process_finished_callback(callback_discovery_finished)\n",
    "\n",
    "        xbee_network.start_discovery_process()\n",
    "\n",
    "        print(\"Discovering remote XBee devices...\")\n",
    "\n",
    "        while xbee_network.is_discovery_running():\n",
    "            time.sleep(0.1)\n",
    "\n",
    "    finally:\n",
    "        if device is not None and device.is_open():\n",
    "            pass\n",
    "#             device.close()"
   ]
  },
  {
   "cell_type": "code",
   "execution_count": 4,
   "metadata": {},
   "outputs": [],
   "source": [
    "# discover_devices()"
   ]
  },
  {
   "cell_type": "code",
   "execution_count": 5,
   "metadata": {},
   "outputs": [],
   "source": [
    "data_value = str(random.randint(1,1000))\n",
    "data_time =  str(datetime.datetime.now())\n",
    "\n",
    "DATA_TO_SEND = data_value + ',' + data_time"
   ]
  },
  {
   "cell_type": "code",
   "execution_count": 6,
   "metadata": {},
   "outputs": [],
   "source": [
    "def send_data():\n",
    "\n",
    "    device = XBeeDevice(PORT, BAUD_RATE)\n",
    "\n",
    "    try:\n",
    "        try:\n",
    "            device.open()\n",
    "        except:\n",
    "            print(\"...\")\n",
    "            time.sleep(5)\n",
    "\n",
    "        print(\"Sending broadcast data: %s...\" % DATA_TO_SEND)\n",
    "\n",
    "        device.send_data_broadcast(DATA_TO_SEND)\n",
    "\n",
    "        print(\"Success\")\n",
    "\n",
    "    finally:\n",
    "        if device is not None and device.is_open():\n",
    "            pass\n",
    "#             device.close()"
   ]
  },
  {
   "cell_type": "code",
   "execution_count": 7,
   "metadata": {},
   "outputs": [
    {
     "name": "stdout",
     "output_type": "stream",
     "text": [
      "...\n",
      "Sending broadcast data: 95,2018-11-04 23:51:11.616099...\n",
      "Success\n"
     ]
    }
   ],
   "source": [
    "send_data()"
   ]
  },
  {
   "cell_type": "code",
   "execution_count": null,
   "metadata": {},
   "outputs": [],
   "source": []
  }
 ],
 "metadata": {
  "kernelspec": {
   "display_name": "Python 3",
   "language": "python",
   "name": "python3"
  },
  "language_info": {
   "codemirror_mode": {
    "name": "ipython",
    "version": 3
   },
   "file_extension": ".py",
   "mimetype": "text/x-python",
   "name": "python",
   "nbconvert_exporter": "python",
   "pygments_lexer": "ipython3",
   "version": "3.6.5"
  }
 },
 "nbformat": 4,
 "nbformat_minor": 2
}
