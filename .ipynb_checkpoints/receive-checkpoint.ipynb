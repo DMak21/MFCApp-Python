{
 "cells": [
  {
   "cell_type": "code",
   "execution_count": 1,
   "metadata": {},
   "outputs": [],
   "source": [
    "from digi.xbee.devices import XBeeDevice\n",
    "import string, random, time\n",
    "from firebase import firebase"
   ]
  },
  {
   "cell_type": "code",
   "execution_count": 2,
   "metadata": {},
   "outputs": [],
   "source": [
    "def id(size=6, chars=string.ascii_uppercase + string.digits):\n",
    "    return ''.join(random.choice(chars) for _ in range(size))"
   ]
  },
  {
   "cell_type": "code",
   "execution_count": 3,
   "metadata": {},
   "outputs": [],
   "source": [
    "firebase = firebase.FirebaseApplication('https://xbee-d18df.firebaseio.com/', None)"
   ]
  },
  {
   "cell_type": "code",
   "execution_count": 4,
   "metadata": {},
   "outputs": [],
   "source": [
    "PORT = \"/dev/tty.usbmodem14101\"\n",
    "BAUD_RATE = 9600"
   ]
  },
  {
   "cell_type": "code",
   "execution_count": 5,
   "metadata": {},
   "outputs": [],
   "source": [
    "device = XBeeDevice(PORT, BAUD_RATE)"
   ]
  },
  {
   "cell_type": "code",
   "execution_count": 6,
   "metadata": {},
   "outputs": [],
   "source": [
    "def fb_push(received_data):\n",
    "    data_value = received_data.split(',')[0]\n",
    "    data_time = received_data.split(',')[1]\n",
    "    firebase.put('/recyclerview', id(), {\"data\": data_value, \"time\": data_time})"
   ]
  },
  {
   "cell_type": "code",
   "execution_count": 7,
   "metadata": {},
   "outputs": [],
   "source": [
    "def receive_data():\n",
    "\n",
    "    device = XBeeDevice(PORT, BAUD_RATE)\n",
    "\n",
    "    try:\n",
    "        try:\n",
    "            device.open()\n",
    "        except:\n",
    "            print(\"...\")\n",
    "            time.sleep(5)\n",
    "\n",
    "        device.flush_queues()\n",
    "\n",
    "        print(\"Waiting for data...\\n\")\n",
    "\n",
    "        while True:\n",
    "            xbee_message = device.read_data()\n",
    "            if xbee_message is not None:\n",
    "                print(\"Received Data: %s\" % xbee_message.data.decode())\n",
    "                fb_push(xbee_message.data.decode())\n",
    "\n",
    "    finally:\n",
    "        if device is not None and device.is_open():\n",
    "            pass\n",
    "#             device.close()"
   ]
  },
  {
   "cell_type": "code",
   "execution_count": null,
   "metadata": {},
   "outputs": [
    {
     "name": "stdout",
     "output_type": "stream",
     "text": [
      "...\n",
      "Waiting for data...\n",
      "\n",
      "Received Data: 95,2018-11-04 23:51:11.616099\n"
     ]
    }
   ],
   "source": [
    "receive_data()"
   ]
  },
  {
   "cell_type": "code",
   "execution_count": null,
   "metadata": {},
   "outputs": [],
   "source": []
  }
 ],
 "metadata": {
  "kernelspec": {
   "display_name": "Python 3",
   "language": "python",
   "name": "python3"
  },
  "language_info": {
   "codemirror_mode": {
    "name": "ipython",
    "version": 3
   },
   "file_extension": ".py",
   "mimetype": "text/x-python",
   "name": "python",
   "nbconvert_exporter": "python",
   "pygments_lexer": "ipython3",
   "version": "3.6.5"
  }
 },
 "nbformat": 4,
 "nbformat_minor": 2
}
